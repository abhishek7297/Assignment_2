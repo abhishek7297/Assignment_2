{
 "cells": [
  {
   "cell_type": "markdown",
   "id": "fc253206",
   "metadata": {},
   "source": [
    "### Q1.What are the two values of the Boolean data type? How do you write them?"
   ]
  },
  {
   "cell_type": "markdown",
   "id": "b17f3fe0",
   "metadata": {},
   "source": [
    "### Ans -\n",
    "The 2 values of Boolean data types are - True and False. \n",
    "Here's an example of how it is used in python - \n"
   ]
  },
  {
   "cell_type": "code",
   "execution_count": 2,
   "id": "5696213a",
   "metadata": {},
   "outputs": [
    {
     "name": "stdout",
     "output_type": "stream",
     "text": [
      "Remember to take an umbrella.\n"
     ]
    }
   ],
   "source": [
    "is_raining = True\n",
    "is_sunny = False\n",
    "\n",
    "if is_raining:\n",
    "    print(\"Remember to take an umbrella.\")\n",
    "\n",
    "if is_sunny:\n",
    "    print(\"Don't forget your sunscreen.\")\n"
   ]
  },
  {
   "cell_type": "markdown",
   "id": "4d5bf793",
   "metadata": {},
   "source": [
    "### Q2. What are the three different types of Boolean operators?"
   ]
  },
  {
   "cell_type": "markdown",
   "id": "5a7dbc14",
   "metadata": {},
   "source": [
    "### Ans -\n",
    "The 3 different types of boolean operators are - \n",
    "\n",
    "i)  Logical **AND** - It returns True only when both the operands are True.\n",
    "\n",
    "ii) Logical **OR** - It returns True if any one of the operand is True.\n",
    "\n",
    "iii)Logical **NOT** - It returns the opposite of the actual truth value of the operand. It performs a logical negation."
   ]
  },
  {
   "cell_type": "markdown",
   "id": "21c11ee8",
   "metadata": {},
   "source": [
    "### Q3. Make a list of each Boolean operator's truth tables (i.e. every possible combination of Boolean values for the operator and what it evaluate )."
   ]
  },
  {
   "cell_type": "markdown",
   "id": "ac019d57",
   "metadata": {},
   "source": [
    "### Ans - \n",
    "\n",
    "**Logical AND :**\n",
    "\n",
    "1) If both operands are True - Output - True\n",
    "\n",
    "2) If any one operand is True - Output - False\n",
    "\n",
    "3) If none of the operand is True - Output - False\n",
    "\n",
    "**Logical OR :**\n",
    "\n",
    "1) If both operands are True - Output - True\n",
    "\n",
    "2) If any one operand is True - Output - True\n",
    "\n",
    "3) If none of the operand is True - Output - False\n",
    "\n",
    "**Logical NOT :**\n",
    "\n",
    "1) If the operand is True - Output - False\n",
    "\n",
    "2) If the operand is False - Output - True"
   ]
  },
  {
   "cell_type": "markdown",
   "id": "7f1d46f5",
   "metadata": {},
   "source": [
    "### Q4. What are the values of the following expressions?\n",
    "\n",
    "(5 > 4) and (3 == 5)\n",
    "\n",
    "not (5 > 4)\n",
    "\n",
    "(5 > 4) or (3 == 5)\n",
    "\n",
    "not ((5 > 4) or (3 == 5))\n",
    "\n",
    "(True and True) and (True == False)\n",
    "\n",
    "(not False) or (not True)\n"
   ]
  },
  {
   "cell_type": "code",
   "execution_count": 5,
   "id": "5358c35a",
   "metadata": {},
   "outputs": [
    {
     "data": {
      "text/plain": [
       "False"
      ]
     },
     "execution_count": 5,
     "metadata": {},
     "output_type": "execute_result"
    }
   ],
   "source": [
    "(5 > 4) and (3 == 5)"
   ]
  },
  {
   "cell_type": "code",
   "execution_count": 6,
   "id": "406d5aef",
   "metadata": {},
   "outputs": [
    {
     "data": {
      "text/plain": [
       "False"
      ]
     },
     "execution_count": 6,
     "metadata": {},
     "output_type": "execute_result"
    }
   ],
   "source": [
    "not (5 > 4)"
   ]
  },
  {
   "cell_type": "code",
   "execution_count": 7,
   "id": "1100cbfd",
   "metadata": {},
   "outputs": [
    {
     "data": {
      "text/plain": [
       "True"
      ]
     },
     "execution_count": 7,
     "metadata": {},
     "output_type": "execute_result"
    }
   ],
   "source": [
    "(5 > 4) or (3 == 5)"
   ]
  },
  {
   "cell_type": "code",
   "execution_count": 8,
   "id": "f194b888",
   "metadata": {},
   "outputs": [
    {
     "data": {
      "text/plain": [
       "False"
      ]
     },
     "execution_count": 8,
     "metadata": {},
     "output_type": "execute_result"
    }
   ],
   "source": [
    "not ((5 > 4) or (3 == 5))"
   ]
  },
  {
   "cell_type": "code",
   "execution_count": 9,
   "id": "21946135",
   "metadata": {},
   "outputs": [
    {
     "data": {
      "text/plain": [
       "False"
      ]
     },
     "execution_count": 9,
     "metadata": {},
     "output_type": "execute_result"
    }
   ],
   "source": [
    "(True and True) and (True == False)"
   ]
  },
  {
   "cell_type": "code",
   "execution_count": 10,
   "id": "b6b2336d",
   "metadata": {},
   "outputs": [
    {
     "data": {
      "text/plain": [
       "True"
      ]
     },
     "execution_count": 10,
     "metadata": {},
     "output_type": "execute_result"
    }
   ],
   "source": [
    "(not False) or (not True)"
   ]
  },
  {
   "cell_type": "markdown",
   "id": "95c6cd04",
   "metadata": {},
   "source": [
    "### Q5. What are the six comparison operators?"
   ]
  },
  {
   "cell_type": "markdown",
   "id": "43e191f8",
   "metadata": {},
   "source": [
    "### Ans - \n",
    "They are - \n",
    " \n",
    "a) Equal to ( == )\n",
    "\n",
    "b) Greater than ( > )\n",
    "\n",
    "c) Greater than or equal to ( >= )\n",
    "\n",
    "d) Less than ( < )\n",
    "\n",
    "e) Less than or equal to ( =< )\n",
    "\n",
    "f) Not equal to ( != )"
   ]
  },
  {
   "cell_type": "markdown",
   "id": "9031194c",
   "metadata": {},
   "source": [
    "### Q6. How do you tell the difference between the equal to and assignment operators?Describe a condition and when you would use one."
   ]
  },
  {
   "cell_type": "markdown",
   "id": "85e7733c",
   "metadata": {},
   "source": [
    "### Ans -\n",
    "\n",
    "i) Equal to operator is **==** . It is used to compare 2 operands to check whether they're equal or not. It would return either a False value or a truth value.\n",
    "\n",
    "ii) Assignment operator is **=** .\n",
    "It is used when we want to assign a value to (let's say) a variable.\n",
    "eg - Age = 25.\n",
    "Here we have assigned the value **25** to a variable **Age** .\n",
    "\n"
   ]
  },
  {
   "cell_type": "markdown",
   "id": "c2513af7",
   "metadata": {},
   "source": [
    "### Q7. Identify the three blocks in this code:\n",
    "spam = 0\n",
    "\n",
    "if spam == 10:\n",
    "\n",
    "print('eggs')\n",
    "\n",
    "if spam > 5:\n",
    "\n",
    "print('bacon')\n",
    "\n",
    "else:\n",
    "\n",
    "print('ham')\n",
    "\n",
    "print('spam')\n",
    "\n",
    "print('spam')\n"
   ]
  },
  {
   "cell_type": "code",
   "execution_count": 12,
   "id": "a272d982",
   "metadata": {},
   "outputs": [
    {
     "name": "stdout",
     "output_type": "stream",
     "text": [
      "ham\n",
      "spam\n",
      "spam\n"
     ]
    }
   ],
   "source": [
    "spam = 0\n",
    "if spam == 10:\n",
    "    print('eggs')\n",
    "if spam > 5:\n",
    "    print('bacon')\n",
    "else:\n",
    "    print('ham')\n",
    "    print('spam')\n",
    "    print('spam')\n"
   ]
  },
  {
   "cell_type": "markdown",
   "id": "1d6f95d7",
   "metadata": {},
   "source": [
    "### Q8. Write code that prints Hello if 1 is stored in spam, prints Howdy if 2 is stored in spam, and prints Greetings! if anything else is stored in spam."
   ]
  },
  {
   "cell_type": "markdown",
   "id": "fe457cd7",
   "metadata": {},
   "source": [
    "### Ans -"
   ]
  },
  {
   "cell_type": "code",
   "execution_count": 13,
   "id": "7ec2c1ec",
   "metadata": {},
   "outputs": [
    {
     "name": "stdout",
     "output_type": "stream",
     "text": [
      "Hello\n"
     ]
    }
   ],
   "source": [
    "spam = 1\n",
    "if spam == 1 :\n",
    "    print('Hello')\n",
    "elif spam == 2 :\n",
    "    print('Howdy')\n",
    "else:\n",
    "    print('Greetings!')"
   ]
  },
  {
   "cell_type": "markdown",
   "id": "045158ed",
   "metadata": {},
   "source": [
    "### Q9. If your programme is stuck in an endless loop, what keys you’ll press?"
   ]
  },
  {
   "cell_type": "markdown",
   "id": "a2dc8198",
   "metadata": {},
   "source": [
    "In this case we have to interrupt the Kernal. The shortcut is to press I,I ( 2 times I )."
   ]
  },
  {
   "cell_type": "code",
   "execution_count": null,
   "id": "f85d8398",
   "metadata": {},
   "outputs": [],
   "source": []
  },
  {
   "cell_type": "markdown",
   "id": "c9cebaf6",
   "metadata": {},
   "source": [
    "### Q10. How can you tell the difference between break and continue?"
   ]
  },
  {
   "cell_type": "markdown",
   "id": "89653e24",
   "metadata": {},
   "source": [
    "### Ans - \n",
    "\n",
    "Both break and continue are control flow statements used in loops (such as **for** or **while**) to alter the execution flow. However, they have different purposes:\n",
    "\n",
    "**break statement:**\n",
    "\n",
    "The break statement is used to terminate the execution of a loop prematurely. When the break statement is encountered within a loop, the loop is immediately exited, and the program continues with the next statement after the loop. It allows you to break out of the loop entirely, regardless of any remaining iterations that might have been left.\n",
    "\n",
    "**continue statement:**\n",
    "\n",
    "The continue statement is used to skip the rest of the current iteration and proceed to the next iteration of the loop. When the continue statement is encountered, the remaining statements within the loop for that particular iteration are skipped, and the loop moves on to the next iteration.\n",
    "\n",
    "To summarize, break is used to terminate the entire loop, while continue is used to skip the remaining statements within the current iteration and move on to the next iteration of the loop."
   ]
  },
  {
   "cell_type": "code",
   "execution_count": 18,
   "id": "9d4362dd",
   "metadata": {},
   "outputs": [
    {
     "name": "stdout",
     "output_type": "stream",
     "text": [
      "1\n",
      "2\n",
      "3\n",
      "4\n"
     ]
    }
   ],
   "source": [
    "for i in range(1, 10):\n",
    "    if i == 5:\n",
    "        break\n",
    "    print(i)\n",
    "\n",
    "# In this example, when the value of i becomes 5, the break statement is triggered, and the loop is terminated. \n",
    "# The program will exit the loop, and the statement after the loop will be executed.    "
   ]
  },
  {
   "cell_type": "code",
   "execution_count": 17,
   "id": "060d3bc1",
   "metadata": {},
   "outputs": [
    {
     "name": "stdout",
     "output_type": "stream",
     "text": [
      "1\n",
      "2\n",
      "4\n",
      "5\n"
     ]
    }
   ],
   "source": [
    "for i in range(1, 6):\n",
    "    if i == 3:\n",
    "        continue\n",
    "    print(i)\n",
    "# In this example, when i becomes 3, the continue statement is triggered. \n",
    "# The print statement following the continue statement is skipped for that iteration, and the loop proceeds to the next iteration."
   ]
  },
  {
   "cell_type": "markdown",
   "id": "0c78db8e",
   "metadata": {},
   "source": [
    "### Q11. In a for loop, what is the difference between range(10), range(0, 10), and range(0, 10, 1)?"
   ]
  },
  {
   "cell_type": "markdown",
   "id": "8398326a",
   "metadata": {},
   "source": [
    "### Ans - \n",
    "There is no difference as far as the output is concerned."
   ]
  },
  {
   "cell_type": "code",
   "execution_count": 20,
   "id": "716d898d",
   "metadata": {},
   "outputs": [
    {
     "name": "stdout",
     "output_type": "stream",
     "text": [
      "0\n",
      "1\n",
      "2\n",
      "3\n",
      "4\n",
      "5\n",
      "6\n",
      "7\n",
      "8\n",
      "9\n"
     ]
    }
   ],
   "source": [
    "for i in range(10):\n",
    "    print(i)"
   ]
  },
  {
   "cell_type": "code",
   "execution_count": 21,
   "id": "186cdf02",
   "metadata": {},
   "outputs": [
    {
     "name": "stdout",
     "output_type": "stream",
     "text": [
      "0\n",
      "1\n",
      "2\n",
      "3\n",
      "4\n",
      "5\n",
      "6\n",
      "7\n",
      "8\n",
      "9\n"
     ]
    }
   ],
   "source": [
    "for i in range(0,10):\n",
    "    print(i)"
   ]
  },
  {
   "cell_type": "code",
   "execution_count": 22,
   "id": "5bb91445",
   "metadata": {},
   "outputs": [
    {
     "name": "stdout",
     "output_type": "stream",
     "text": [
      "0\n",
      "1\n",
      "2\n",
      "3\n",
      "4\n",
      "5\n",
      "6\n",
      "7\n",
      "8\n",
      "9\n"
     ]
    }
   ],
   "source": [
    "for i in range(0,10,1):\n",
    "    print(i)"
   ]
  },
  {
   "cell_type": "markdown",
   "id": "b9120f6b",
   "metadata": {},
   "source": [
    "### Q12. Write a short program that prints the numbers 1 to 10 using a for loop. Then write an equivalent program that prints the numbers 1 to 10 using a while loop."
   ]
  },
  {
   "cell_type": "code",
   "execution_count": 24,
   "id": "c75535d4",
   "metadata": {},
   "outputs": [
    {
     "name": "stdout",
     "output_type": "stream",
     "text": [
      "1\n",
      "2\n",
      "3\n",
      "4\n",
      "5\n",
      "6\n",
      "7\n",
      "8\n",
      "9\n",
      "10\n"
     ]
    }
   ],
   "source": [
    "# Using a for loop\n",
    "for i in range(1,11,1) :\n",
    "    print(i)"
   ]
  },
  {
   "cell_type": "code",
   "execution_count": 27,
   "id": "5b662890",
   "metadata": {},
   "outputs": [
    {
     "name": "stdout",
     "output_type": "stream",
     "text": [
      "1\n",
      "2\n",
      "3\n",
      "4\n",
      "5\n",
      "6\n",
      "7\n",
      "8\n",
      "9\n",
      "10\n"
     ]
    }
   ],
   "source": [
    "# Using a while loop\n",
    "i = 1\n",
    "while i <= 10 :\n",
    "    print(i)\n",
    "    i += 1"
   ]
  },
  {
   "cell_type": "markdown",
   "id": "604cb9a9",
   "metadata": {},
   "source": [
    "### Q13. If you had a function named bacon() inside a module named spam, how would you call it after importing spam?"
   ]
  },
  {
   "cell_type": "markdown",
   "id": "371f0daf",
   "metadata": {},
   "source": [
    "### Ans -\n",
    "\n",
    "import spam\n",
    "\n",
    "spam.module()"
   ]
  }
 ],
 "metadata": {
  "kernelspec": {
   "display_name": "Python 3 (ipykernel)",
   "language": "python",
   "name": "python3"
  },
  "language_info": {
   "codemirror_mode": {
    "name": "ipython",
    "version": 3
   },
   "file_extension": ".py",
   "mimetype": "text/x-python",
   "name": "python",
   "nbconvert_exporter": "python",
   "pygments_lexer": "ipython3",
   "version": "3.9.13"
  }
 },
 "nbformat": 4,
 "nbformat_minor": 5
}
